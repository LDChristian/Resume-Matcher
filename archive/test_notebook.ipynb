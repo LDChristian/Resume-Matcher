{
 "cells": [
  {
   "cell_type": "code",
   "execution_count": 1,
   "metadata": {},
   "outputs": [
    {
     "ename": "ModuleNotFoundError",
     "evalue": "No module named 'scripts.parsers'",
     "output_type": "error",
     "traceback": [
      "\u001b[1;31m---------------------------------------------------------------------------\u001b[0m",
      "\u001b[1;31mModuleNotFoundError\u001b[0m                       Traceback (most recent call last)",
      "Cell \u001b[1;32mIn[1], line 1\u001b[0m\n\u001b[1;32m----> 1\u001b[0m \u001b[38;5;28;01mfrom\u001b[39;00m \u001b[38;5;21;01mscripts\u001b[39;00m\u001b[38;5;21;01m.\u001b[39;00m\u001b[38;5;21;01mparsers\u001b[39;00m\u001b[38;5;21;01m.\u001b[39;00m\u001b[38;5;21;01mParseResumeToJson\u001b[39;00m \u001b[38;5;28;01mimport\u001b[39;00m ParseResume\n\u001b[0;32m      2\u001b[0m \u001b[38;5;28;01mfrom\u001b[39;00m \u001b[38;5;21;01mscripts\u001b[39;00m\u001b[38;5;21;01m.\u001b[39;00m\u001b[38;5;21;01mparsers\u001b[39;00m\u001b[38;5;21;01m.\u001b[39;00m\u001b[38;5;21;01mParseJobDescToJson\u001b[39;00m \u001b[38;5;28;01mimport\u001b[39;00m ParseJobDesc\n\u001b[0;32m      3\u001b[0m \u001b[38;5;28;01mfrom\u001b[39;00m \u001b[38;5;21;01mscripts\u001b[39;00m\u001b[38;5;21;01m.\u001b[39;00m\u001b[38;5;21;01mReadPdf\u001b[39;00m \u001b[38;5;28;01mimport\u001b[39;00m read_single_pdf\n",
      "\u001b[1;31mModuleNotFoundError\u001b[0m: No module named 'scripts.parsers'"
     ]
    }
   ],
   "source": [
    "from scripts.parsers.ParseResumeToJson import ParseResume\n",
    "from scripts.parsers.ParseJobDescToJson import ParseJobDesc\n",
    "from scripts.ReadPdf import read_single_pdf\n",
    "import os.path\n",
    "import pathlib\n",
    "import json\n",
    "\n",
    "\n",
    "\n",
    "READ_RESUME_FROM = 'Data/Resumes/'\n",
    "SAVE_DIRECTORY = 'Data/Processed/Resumes'\n",
    "\n",
    "\n",
    "def read_resumes(input_file: str) -> dict:\n",
    "    input_file_name = os.path.join(READ_RESUME_FROM+input_file)\n",
    "    data = read_single_pdf(input_file_name)\n",
    "    output = ParseResume(data).get_JSON()\n",
    "    return output\n",
    "\n",
    "\n",
    "def read_job_desc(input_file: str) -> dict:\n",
    "    input_file_name = os.path.join(READ_RESUME_FROM + input_file)\n",
    "    data = read_single_pdf(input_file_name)\n",
    "    output = ParseJobDesc(data).get_JSON()\n",
    "    return output\n",
    "\n",
    "def write_json_file(resume_dictionary: dict):\n",
    "    file_name = str(\"Resume-\" + resume_dictionary[\"unique_id\"] + \".json\")\n",
    "    save_directory_name = pathlib.Path(SAVE_DIRECTORY) / file_name\n",
    "    json_object = json.dumps(resume_dictionary, sort_keys=True, indent=14)\n",
    "    with open(save_directory_name, \"w+\") as outfile:\n",
    "        outfile.write(json_object)\n"
   ]
  },
  {
   "cell_type": "code",
   "execution_count": null,
   "metadata": {},
   "outputs": [],
   "source": [
    "write_json_file(read_job_desc('job_desc_1.pdf'))"
   ]
  },
  {
   "cell_type": "code",
   "execution_count": null,
   "metadata": {},
   "outputs": [],
   "source": []
  }
 ],
 "metadata": {
  "kernelspec": {
   "display_name": "venv",
   "language": "python",
   "name": "python3"
  },
  "language_info": {
   "codemirror_mode": {
    "name": "ipython",
    "version": 3
   },
   "file_extension": ".py",
   "mimetype": "text/x-python",
   "name": "python",
   "nbconvert_exporter": "python",
   "pygments_lexer": "ipython3",
   "version": "3.10.5"
  },
  "orig_nbformat": 4
 },
 "nbformat": 4,
 "nbformat_minor": 2
}
