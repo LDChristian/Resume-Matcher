{
 "cells": [
  {
   "cell_type": "markdown",
   "metadata": {
    "id": "kqc20cqacU4b"
   },
   "source": [
    "## INSTALLATION"
   ]
  },
  {
   "cell_type": "code",
   "execution_count": 1,
   "metadata": {
    "colab": {
     "base_uri": "https://localhost:8080/"
    },
    "id": "Kv9Xh-5gbzWT",
    "outputId": "2cc2f6b8-a67c-4f45-98fe-4b1788d684fb"
   },
   "outputs": [
    {
     "name": "stderr",
     "output_type": "stream",
     "text": [
      "fatal: destination path 'Resume-Matcher' already exists and is not an empty directory.\n"
     ]
    }
   ],
   "source": [
    "!git clone -b subbu https://github.com/SubramanyamChalla24/Resume-Matcher.git"
   ]
  },
  {
   "cell_type": "code",
   "execution_count": 2,
   "metadata": {
    "colab": {
     "base_uri": "https://localhost:8080/"
    },
    "id": "gZLPVU6Xb48-",
    "outputId": "ad2e45ba-d564-47e4-c3c3-6e12ad96d726"
   },
   "outputs": [
    {
     "name": "stdout",
     "output_type": "stream",
     "text": [
      "d:\\Users\\USER\\Desktop\\Universidad\\Ciclo-10\\Taller de Aplicaciones Sociales\\Proyecto\\Resume-Matcher\\archive\\Resume-Matcher\n"
     ]
    }
   ],
   "source": [
    "%cd Resume-Matcher"
   ]
  },
  {
   "cell_type": "code",
   "execution_count": 3,
   "metadata": {
    "colab": {
     "base_uri": "https://localhost:8080/"
    },
    "id": "fCcp6B5tdfDE",
    "outputId": "6c505599-8b34-41f9-e923-a4009a25f79c"
   },
   "outputs": [
    {
     "name": "stderr",
     "output_type": "stream",
     "text": [
      "ERROR: Could not open requirements file: [Errno 2] No such file or directory: '/content/Resume-Matcher/archive/requirements_colab.txt'\n",
      "\n",
      "[notice] A new release of pip is available: 23.3.1 -> 23.3.2\n",
      "[notice] To update, run: python.exe -m pip install --upgrade pip\n"
     ]
    }
   ],
   "source": [
    "!pip3 install -q -r /content/Resume-Matcher/archive/requirements_colab.txt"
   ]
  },
  {
   "cell_type": "code",
   "execution_count": 4,
   "metadata": {
    "colab": {
     "base_uri": "https://localhost:8080/"
    },
    "id": "kuFFER2Lc7Wo",
    "outputId": "f30a991a-2e19-4662-f2aa-289e2b09e711"
   },
   "outputs": [
    {
     "name": "stderr",
     "output_type": "stream",
     "text": [
      "\n",
      "[notice] A new release of pip is available: 23.3.1 -> 23.3.2\n",
      "[notice] To update, run: python.exe -m pip install --upgrade pip\n"
     ]
    }
   ],
   "source": [
    "!pip install -q streamlit pyngrok"
   ]
  },
  {
   "cell_type": "code",
   "execution_count": 5,
   "metadata": {
    "colab": {
     "base_uri": "https://localhost:8080/"
    },
    "id": "b-7wdKYVddLN",
    "outputId": "3ec79dd1-8be4-481a-e12b-dd96cd7c23bf"
   },
   "outputs": [
    {
     "name": "stderr",
     "output_type": "stream",
     "text": [
      "[nltk_data] Downloading package punkt to\n",
      "[nltk_data]     C:\\Users\\USER\\AppData\\Roaming\\nltk_data...\n",
      "[nltk_data]   Package punkt is already up-to-date!\n"
     ]
    },
    {
     "data": {
      "text/plain": [
       "True"
      ]
     },
     "execution_count": 5,
     "metadata": {},
     "output_type": "execute_result"
    }
   ],
   "source": [
    "import nltk\n",
    "nltk.download('punkt')"
   ]
  },
  {
   "cell_type": "code",
   "execution_count": 6,
   "metadata": {
    "colab": {
     "base_uri": "https://localhost:8080/"
    },
    "id": "5AszWZzPcN_A",
    "outputId": "43ee07b1-dee8-4350-e0a9-69ac28cc5459"
   },
   "outputs": [
    {
     "name": "stderr",
     "output_type": "stream",
     "text": [
      "\u001b[32;10m2024-01-13 14:50:01,624 (run_first.py:31) - INFO: \u001b[0mStarted to read from Data/Resumes\n",
      "\u001b[32;10m2024-01-13 14:50:01,625 (run_first.py:28) - INFO: \u001b[0mDeleted old files from Data/Processed/Resumes\n",
      "\u001b[32;10m2024-01-13 14:50:01,626 (run_first.py:38) - INFO: \u001b[0mReading from Data/Resumes is now complete.\n",
      "\u001b[32;10m2024-01-13 14:50:01,626 (run_first.py:48) - INFO: \u001b[0mStarted parsing the resumes.\n",
      "\u001b[32;10m2024-01-13 14:50:03,859 (core.py:65) - INFO: \u001b[0mloaded 'en_core_web_md' spaCy language pipeline\n",
      "\u001b[32;10m2024-01-13 14:50:07,886 (run_first.py:52) - INFO: \u001b[0mParsing of the resumes is now complete.\n",
      "\u001b[32;10m2024-01-13 14:50:07,886 (run_first.py:54) - INFO: \u001b[0mStarted to read from Data/JobDescription\n",
      "\u001b[32;10m2024-01-13 14:50:07,888 (run_first.py:28) - INFO: \u001b[0mDeleted old files from Data/Processed/JobDescription\n",
      "\u001b[32;10m2024-01-13 14:50:07,889 (run_first.py:61) - INFO: \u001b[0mReading from Data/JobDescription is now complete.\n",
      "\u001b[32;10m2024-01-13 14:50:07,889 (run_first.py:72) - INFO: \u001b[0mStarted parsing the Job Descriptions.\n",
      "\u001b[32;10m2024-01-13 14:50:11,458 (run_first.py:76) - INFO: \u001b[0mParsing of the Job Descriptions is now complete.\n",
      "\u001b[32;10m2024-01-13 14:50:11,458 (run_first.py:77) - INFO: \u001b[0mSuccess now run `streamlit run streamlit_second.py`\n"
     ]
    }
   ],
   "source": [
    "!python run_first.py"
   ]
  },
  {
   "cell_type": "code",
   "execution_count": 7,
   "metadata": {
    "colab": {
     "base_uri": "https://localhost:8080/"
    },
    "id": "zzwjquLHJep7",
    "outputId": "77b2f6e5-f129-4019-eda7-a57e4dc33fed"
   },
   "outputs": [
    {
     "data": {
      "text/plain": [
       "<NgrokTunnel: \"https://140b-190-235-179-173.ngrok-free.app\" -> \"http://localhost:8501\">"
      ]
     },
     "execution_count": 7,
     "metadata": {},
     "output_type": "execute_result"
    }
   ],
   "source": [
    "from pyngrok import ngrok\n",
    "ngrok.set_auth_token(\"2auiSFswSPl5Q12qvh7YMY8khSp_qf5J6TU2HMDS53u3QEDS\")\n",
    "public_url = ngrok.connect(8501)\n",
    "public_url"
   ]
  },
  {
   "cell_type": "code",
   "execution_count": 8,
   "metadata": {
    "id": "fBDY6nwAlvQk"
   },
   "outputs": [
    {
     "ename": "OSError",
     "evalue": "Background processes not supported.",
     "output_type": "error",
     "traceback": [
      "\u001b[1;31m---------------------------------------------------------------------------\u001b[0m",
      "\u001b[1;31mOSError\u001b[0m                                   Traceback (most recent call last)",
      "Cell \u001b[1;32mIn[8], line 1\u001b[0m\n\u001b[1;32m----> 1\u001b[0m \u001b[43mget_ipython\u001b[49m\u001b[43m(\u001b[49m\u001b[43m)\u001b[49m\u001b[38;5;241;43m.\u001b[39;49m\u001b[43msystem\u001b[49m\u001b[43m(\u001b[49m\u001b[38;5;124;43m'\u001b[39;49m\u001b[38;5;124;43mstreamlit run /content/Resume-Matcher/streamlit_app.py &>/dev/null&\u001b[39;49m\u001b[38;5;124;43m'\u001b[39;49m\u001b[43m)\u001b[49m\n",
      "File \u001b[1;32md:\\Users\\USER\\Desktop\\Universidad\\Ciclo-10\\Taller de Aplicaciones Sociales\\Proyecto\\Resume-Matcher\\env\\lib\\site-packages\\ipykernel\\zmqshell.py:641\u001b[0m, in \u001b[0;36mZMQInteractiveShell.system_piped\u001b[1;34m(self, cmd)\u001b[0m\n\u001b[0;32m    634\u001b[0m \u001b[38;5;28;01mif\u001b[39;00m cmd\u001b[38;5;241m.\u001b[39mrstrip()\u001b[38;5;241m.\u001b[39mendswith(\u001b[38;5;124m\"\u001b[39m\u001b[38;5;124m&\u001b[39m\u001b[38;5;124m\"\u001b[39m):\n\u001b[0;32m    635\u001b[0m     \u001b[38;5;66;03m# this is *far* from a rigorous test\u001b[39;00m\n\u001b[0;32m    636\u001b[0m     \u001b[38;5;66;03m# We do not support backgrounding processes because we either use\u001b[39;00m\n\u001b[0;32m    637\u001b[0m     \u001b[38;5;66;03m# pexpect or pipes to read from.  Users can always just call\u001b[39;00m\n\u001b[0;32m    638\u001b[0m     \u001b[38;5;66;03m# os.system() or use ip.system=ip.system_raw\u001b[39;00m\n\u001b[0;32m    639\u001b[0m     \u001b[38;5;66;03m# if they really want a background process.\u001b[39;00m\n\u001b[0;32m    640\u001b[0m     msg \u001b[38;5;241m=\u001b[39m \u001b[38;5;124m\"\u001b[39m\u001b[38;5;124mBackground processes not supported.\u001b[39m\u001b[38;5;124m\"\u001b[39m\n\u001b[1;32m--> 641\u001b[0m     \u001b[38;5;28;01mraise\u001b[39;00m \u001b[38;5;167;01mOSError\u001b[39;00m(msg)\n\u001b[0;32m    643\u001b[0m \u001b[38;5;66;03m# we explicitly do NOT return the subprocess status code, because\u001b[39;00m\n\u001b[0;32m    644\u001b[0m \u001b[38;5;66;03m# a non-None value would trigger :func:`sys.displayhook` calls.\u001b[39;00m\n\u001b[0;32m    645\u001b[0m \u001b[38;5;66;03m# Instead, we store the exit_code in user_ns.\u001b[39;00m\n\u001b[0;32m    646\u001b[0m \u001b[38;5;66;03m# Also, protect system call from UNC paths on Windows here too\u001b[39;00m\n\u001b[0;32m    647\u001b[0m \u001b[38;5;66;03m# as is done in InteractiveShell.system_raw\u001b[39;00m\n\u001b[0;32m    648\u001b[0m \u001b[38;5;28;01mif\u001b[39;00m sys\u001b[38;5;241m.\u001b[39mplatform \u001b[38;5;241m==\u001b[39m \u001b[38;5;124m\"\u001b[39m\u001b[38;5;124mwin32\u001b[39m\u001b[38;5;124m\"\u001b[39m:\n",
      "\u001b[1;31mOSError\u001b[0m: Background processes not supported."
     ]
    }
   ],
   "source": [
    "!streamlit run /content/Resume-Matcher/streamlit_app.py &>/dev/null&"
   ]
  },
  {
   "cell_type": "markdown",
   "metadata": {
    "id": "MRdlCQBqMyCO"
   },
   "source": [
    "## To kill ngrok"
   ]
  },
  {
   "cell_type": "code",
   "execution_count": null,
   "metadata": {
    "id": "C3saHU92Jwrx"
   },
   "outputs": [],
   "source": [
    "!pgrep streamlit"
   ]
  },
  {
   "cell_type": "code",
   "execution_count": null,
   "metadata": {
    "id": "0mpeWc_gMfl_"
   },
   "outputs": [],
   "source": [
    "#above id's using\n",
    "!kill"
   ]
  },
  {
   "cell_type": "code",
   "execution_count": null,
   "metadata": {
    "id": "_V1aUz6rMjPr"
   },
   "outputs": [],
   "source": [
    "ngrok.kill()"
   ]
  }
 ],
 "metadata": {
  "colab": {
   "provenance": []
  },
  "kernelspec": {
   "display_name": "Python 3",
   "name": "python3"
  },
  "language_info": {
   "codemirror_mode": {
    "name": "ipython",
    "version": 3
   },
   "file_extension": ".py",
   "mimetype": "text/x-python",
   "name": "python",
   "nbconvert_exporter": "python",
   "pygments_lexer": "ipython3",
   "version": "3.10.5"
  }
 },
 "nbformat": 4,
 "nbformat_minor": 0
}
